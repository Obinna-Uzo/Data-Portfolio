{
 "cells": [
  {
   "cell_type": "code",
   "execution_count": 1,
   "id": "916cebc8-b5cf-4de9-9541-494202d5f74e",
   "metadata": {},
   "outputs": [],
   "source": [
    "import pandas as pd\n",
    "import numpy as np\n",
    "import matplotlib.pyplot as plt\n",
    "import seaborn as sns\n",
    "import plotly.express as px\n",
    "import ipywidgets as widgets\n",
    "from ipywidgets import interact, interact_manual\n",
    "import warnings\n",
    "warnings.filterwarnings('ignore')"
   ]
  },
  {
   "cell_type": "code",
   "execution_count": 2,
   "id": "7ffbf337-fb9b-4393-bcbc-5747486ad208",
   "metadata": {},
   "outputs": [
    {
     "name": "stdout",
     "output_type": "stream",
     "text": [
      "Requirement already satisfied: pandas in c:\\users\\hp\\anaconda3\\lib\\site-packages (2.1.4)\n",
      "Requirement already satisfied: numpy in c:\\users\\hp\\anaconda3\\lib\\site-packages (1.26.3)\n",
      "Requirement already satisfied: matplotlib in c:\\users\\hp\\anaconda3\\lib\\site-packages (3.9.2)\n",
      "Requirement already satisfied: seaborn in c:\\users\\hp\\anaconda3\\lib\\site-packages (0.13.2)\n",
      "Requirement already satisfied: plotly in c:\\users\\hp\\anaconda3\\lib\\site-packages (5.24.1)\n",
      "Requirement already satisfied: ipywidgets in c:\\users\\hp\\anaconda3\\lib\\site-packages (8.1.7)\n",
      "Requirement already satisfied: python-dateutil>=2.8.2 in c:\\users\\hp\\anaconda3\\lib\\site-packages (from pandas) (2.9.0.post0)\n",
      "Requirement already satisfied: pytz>=2020.1 in c:\\users\\hp\\anaconda3\\lib\\site-packages (from pandas) (2024.1)\n",
      "Requirement already satisfied: tzdata>=2022.1 in c:\\users\\hp\\anaconda3\\lib\\site-packages (from pandas) (2023.3)\n",
      "Requirement already satisfied: contourpy>=1.0.1 in c:\\users\\hp\\anaconda3\\lib\\site-packages (from matplotlib) (1.2.0)\n",
      "Requirement already satisfied: cycler>=0.10 in c:\\users\\hp\\anaconda3\\lib\\site-packages (from matplotlib) (0.11.0)\n",
      "Requirement already satisfied: fonttools>=4.22.0 in c:\\users\\hp\\anaconda3\\lib\\site-packages (from matplotlib) (4.51.0)\n",
      "Requirement already satisfied: kiwisolver>=1.3.1 in c:\\users\\hp\\anaconda3\\lib\\site-packages (from matplotlib) (1.4.4)\n",
      "Requirement already satisfied: packaging>=20.0 in c:\\users\\hp\\anaconda3\\lib\\site-packages (from matplotlib) (24.1)\n",
      "Requirement already satisfied: pillow>=8 in c:\\users\\hp\\anaconda3\\lib\\site-packages (from matplotlib) (10.4.0)\n",
      "Requirement already satisfied: pyparsing>=2.3.1 in c:\\users\\hp\\anaconda3\\lib\\site-packages (from matplotlib) (3.1.2)\n",
      "Requirement already satisfied: tenacity>=6.2.0 in c:\\users\\hp\\anaconda3\\lib\\site-packages (from plotly) (8.2.3)\n",
      "Requirement already satisfied: comm>=0.1.3 in c:\\users\\hp\\anaconda3\\lib\\site-packages (from ipywidgets) (0.2.1)\n",
      "Requirement already satisfied: ipython>=6.1.0 in c:\\users\\hp\\anaconda3\\lib\\site-packages (from ipywidgets) (8.27.0)\n",
      "Requirement already satisfied: traitlets>=4.3.1 in c:\\users\\hp\\anaconda3\\lib\\site-packages (from ipywidgets) (5.14.3)\n",
      "Requirement already satisfied: widgetsnbextension~=4.0.14 in c:\\users\\hp\\anaconda3\\lib\\site-packages (from ipywidgets) (4.0.14)\n",
      "Requirement already satisfied: jupyterlab_widgets~=3.0.15 in c:\\users\\hp\\anaconda3\\lib\\site-packages (from ipywidgets) (3.0.15)\n",
      "Requirement already satisfied: decorator in c:\\users\\hp\\anaconda3\\lib\\site-packages (from ipython>=6.1.0->ipywidgets) (5.1.1)\n",
      "Requirement already satisfied: jedi>=0.16 in c:\\users\\hp\\anaconda3\\lib\\site-packages (from ipython>=6.1.0->ipywidgets) (0.19.1)\n",
      "Requirement already satisfied: matplotlib-inline in c:\\users\\hp\\anaconda3\\lib\\site-packages (from ipython>=6.1.0->ipywidgets) (0.1.6)\n",
      "Requirement already satisfied: prompt-toolkit<3.1.0,>=3.0.41 in c:\\users\\hp\\anaconda3\\lib\\site-packages (from ipython>=6.1.0->ipywidgets) (3.0.43)\n",
      "Requirement already satisfied: pygments>=2.4.0 in c:\\users\\hp\\anaconda3\\lib\\site-packages (from ipython>=6.1.0->ipywidgets) (2.15.1)\n",
      "Requirement already satisfied: stack-data in c:\\users\\hp\\anaconda3\\lib\\site-packages (from ipython>=6.1.0->ipywidgets) (0.2.0)\n",
      "Requirement already satisfied: colorama in c:\\users\\hp\\anaconda3\\lib\\site-packages (from ipython>=6.1.0->ipywidgets) (0.4.6)\n",
      "Requirement already satisfied: six>=1.5 in c:\\users\\hp\\anaconda3\\lib\\site-packages (from python-dateutil>=2.8.2->pandas) (1.16.0)\n",
      "Requirement already satisfied: parso<0.9.0,>=0.8.3 in c:\\users\\hp\\anaconda3\\lib\\site-packages (from jedi>=0.16->ipython>=6.1.0->ipywidgets) (0.8.3)\n",
      "Requirement already satisfied: wcwidth in c:\\users\\hp\\anaconda3\\lib\\site-packages (from prompt-toolkit<3.1.0,>=3.0.41->ipython>=6.1.0->ipywidgets) (0.2.5)\n",
      "Requirement already satisfied: executing in c:\\users\\hp\\anaconda3\\lib\\site-packages (from stack-data->ipython>=6.1.0->ipywidgets) (0.8.3)\n",
      "Requirement already satisfied: asttokens in c:\\users\\hp\\anaconda3\\lib\\site-packages (from stack-data->ipython>=6.1.0->ipywidgets) (2.0.5)\n",
      "Requirement already satisfied: pure-eval in c:\\users\\hp\\anaconda3\\lib\\site-packages (from stack-data->ipython>=6.1.0->ipywidgets) (0.2.2)\n",
      "Note: you may need to restart the kernel to use updated packages.\n"
     ]
    }
   ],
   "source": [
    "pip install pandas numpy matplotlib seaborn plotly ipywidgets"
   ]
  },
  {
   "cell_type": "code",
   "execution_count": 3,
   "id": "ca50061b-4094-458d-9ffc-7365675fcc73",
   "metadata": {},
   "outputs": [
    {
     "name": "stdout",
     "output_type": "stream",
     "text": [
      "Requirement already satisfied: jupyterlab_widgets in c:\\users\\hp\\anaconda3\\lib\\site-packages (3.0.15)\n",
      "Note: you may need to restart the kernel to use updated packages.\n"
     ]
    }
   ],
   "source": [
    "pip install jupyterlab_widgets"
   ]
  },
  {
   "cell_type": "code",
   "execution_count": 4,
   "id": "99ee22e5-8b0e-448c-a5dd-2d94939b6637",
   "metadata": {},
   "outputs": [
    {
     "data": {
      "application/vnd.jupyter.widget-view+json": {
       "model_id": "9f664f900d6f4852a2afe88438e6278e",
       "version_major": 2,
       "version_minor": 0
      },
      "text/plain": [
       "IntSlider(value=0)"
      ]
     },
     "execution_count": 4,
     "metadata": {},
     "output_type": "execute_result"
    }
   ],
   "source": [
    "import ipywidgets as widgets\n",
    "widgets.IntSlider()"
   ]
  },
  {
   "cell_type": "code",
   "execution_count": 5,
   "id": "838df290-1c3e-40ba-be43-7a0ee78ab3b0",
   "metadata": {},
   "outputs": [],
   "source": [
    "df =  pd.read_csv(\"C:/Users/HP/Documents/Coffee Sales/Coffee Sales Merged.csv\")"
   ]
  },
  {
   "cell_type": "code",
   "execution_count": 6,
   "id": "592ab989-a700-4797-b581-3eba927c1a75",
   "metadata": {},
   "outputs": [
    {
     "name": "stdout",
     "output_type": "stream",
     "text": [
      "<class 'pandas.core.frame.DataFrame'>\n",
      "RangeIndex: 3898 entries, 0 to 3897\n",
      "Data columns (total 5 columns):\n",
      " #   Column       Non-Null Count  Dtype  \n",
      "---  ------       --------------  -----  \n",
      " 0   date         3898 non-null   object \n",
      " 1   datetime     3898 non-null   object \n",
      " 2   cash_type    3898 non-null   object \n",
      " 3   money        3898 non-null   float64\n",
      " 4   coffee_name  3898 non-null   object \n",
      "dtypes: float64(1), object(4)\n",
      "memory usage: 152.4+ KB\n"
     ]
    }
   ],
   "source": [
    "df.info()"
   ]
  },
  {
   "cell_type": "code",
   "execution_count": 7,
   "id": "0083da13-5d80-4e6f-be97-7b50e31cda5d",
   "metadata": {},
   "outputs": [
    {
     "data": {
      "text/html": [
       "<div>\n",
       "<style scoped>\n",
       "    .dataframe tbody tr th:only-of-type {\n",
       "        vertical-align: middle;\n",
       "    }\n",
       "\n",
       "    .dataframe tbody tr th {\n",
       "        vertical-align: top;\n",
       "    }\n",
       "\n",
       "    .dataframe thead th {\n",
       "        text-align: right;\n",
       "    }\n",
       "</style>\n",
       "<table border=\"1\" class=\"dataframe\">\n",
       "  <thead>\n",
       "    <tr style=\"text-align: right;\">\n",
       "      <th></th>\n",
       "      <th>money</th>\n",
       "    </tr>\n",
       "  </thead>\n",
       "  <tbody>\n",
       "    <tr>\n",
       "      <th>count</th>\n",
       "      <td>3898.00000</td>\n",
       "    </tr>\n",
       "    <tr>\n",
       "      <th>mean</th>\n",
       "      <td>31.38060</td>\n",
       "    </tr>\n",
       "    <tr>\n",
       "      <th>std</th>\n",
       "      <td>5.06461</td>\n",
       "    </tr>\n",
       "    <tr>\n",
       "      <th>min</th>\n",
       "      <td>15.00000</td>\n",
       "    </tr>\n",
       "    <tr>\n",
       "      <th>25%</th>\n",
       "      <td>27.92000</td>\n",
       "    </tr>\n",
       "    <tr>\n",
       "      <th>50%</th>\n",
       "      <td>32.82000</td>\n",
       "    </tr>\n",
       "    <tr>\n",
       "      <th>75%</th>\n",
       "      <td>35.76000</td>\n",
       "    </tr>\n",
       "    <tr>\n",
       "      <th>max</th>\n",
       "      <td>40.00000</td>\n",
       "    </tr>\n",
       "  </tbody>\n",
       "</table>\n",
       "</div>"
      ],
      "text/plain": [
       "            money\n",
       "count  3898.00000\n",
       "mean     31.38060\n",
       "std       5.06461\n",
       "min      15.00000\n",
       "25%      27.92000\n",
       "50%      32.82000\n",
       "75%      35.76000\n",
       "max      40.00000"
      ]
     },
     "execution_count": 7,
     "metadata": {},
     "output_type": "execute_result"
    }
   ],
   "source": [
    "df.describe()"
   ]
  },
  {
   "cell_type": "code",
   "execution_count": 8,
   "id": "60d4172b-4218-4a49-ae8d-1331b61c6aaa",
   "metadata": {},
   "outputs": [
    {
     "data": {
      "text/plain": [
       "3898"
      ]
     },
     "execution_count": 8,
     "metadata": {},
     "output_type": "execute_result"
    }
   ],
   "source": [
    "df.shape[0]"
   ]
  },
  {
   "cell_type": "code",
   "execution_count": 9,
   "id": "02bc7585-08f5-431d-9cec-684236b8aa38",
   "metadata": {},
   "outputs": [
    {
     "data": {
      "text/plain": [
       "5"
      ]
     },
     "execution_count": 9,
     "metadata": {},
     "output_type": "execute_result"
    }
   ],
   "source": [
    "df.shape[1]"
   ]
  },
  {
   "cell_type": "markdown",
   "id": "6204b720-458f-4bc7-9f4f-ffd3d4590c85",
   "metadata": {},
   "source": [
    "## KPIs"
   ]
  },
  {
   "cell_type": "code",
   "execution_count": 10,
   "id": "6d1bfca7-e4f8-4645-b099-2c6226d5edfe",
   "metadata": {},
   "outputs": [
    {
     "name": "stdout",
     "output_type": "stream",
     "text": [
      "Total Sales: 3,898\n",
      "Total Revenue: $122,322\n",
      "Avg Price: $31.4\n",
      "Coffee Types: 34\n"
     ]
    }
   ],
   "source": [
    "total_sales = df['date'].count()\n",
    "total_revenue = df['money'].sum()\n",
    "avg_price_of_coffee = total_revenue / total_sales\n",
    "no_of_coffee_type = df['coffee_name'].nunique()\n",
    "\n",
    "print(f\"Total Sales: {total_sales:,}\")\n",
    "print(f\"Total Revenue: ${total_revenue:,.0f}\")\n",
    "print(f\"Avg Price: ${avg_price_of_coffee:.1f}\")\n",
    "print(f\"Coffee Types: {no_of_coffee_type}\")"
   ]
  },
  {
   "cell_type": "markdown",
   "id": "14c7d376-41e0-4ede-b3fd-36f9694c92c1",
   "metadata": {},
   "source": [
    "### Total Sales by Day of Week"
   ]
  },
  {
   "cell_type": "code",
   "execution_count": 11,
   "id": "0d12aa01-d5ff-46ba-ac8c-e148501dbb4d",
   "metadata": {},
   "outputs": [
    {
     "data": {
      "application/vnd.jupyter.widget-view+json": {
       "model_id": "7b1698be76ce4a3283352abb2fe8c361",
       "version_major": 2,
       "version_minor": 0
      },
      "text/plain": [
       "interactive(children=(Dropdown(description='Year:', options=('All', 2024, 2025), value='All'), Dropdown(descri…"
      ]
     },
     "metadata": {},
     "output_type": "display_data"
    }
   ],
   "source": [
    "# --- Prepare date columns ---\n",
    "df['date'] = pd.to_datetime(df['date'], dayfirst=True, errors='coerce')\n",
    "df['day_name'] = df['date'].dt.day_name()\n",
    "df['month_name'] = df['date'].dt.month_name()\n",
    "df['year'] = df['date'].dt.year\n",
    "\n",
    "weekday_order = [\"Monday\",\"Tuesday\",\"Wednesday\",\"Thursday\",\"Friday\",\"Saturday\",\"Sunday\"]\n",
    "df['day_name'] = pd.Categorical(df['day_name'], categories=weekday_order, ordered=True)\n",
    "\n",
    "# --- Interactive Function ---\n",
    "def plot_sales(year, month):\n",
    "    filtered_df = df.copy()\n",
    "    if year != \"All\":\n",
    "        filtered_df = filtered_df[filtered_df['year'] == year]\n",
    "    if month != \"All\":\n",
    "        filtered_df = filtered_df[filtered_df['month_name'] == month]\n",
    "    \n",
    "    sales_by_day = filtered_df.groupby('day_name', observed=False)['date'].count()\n",
    "    \n",
    "    ax = sales_by_day.plot(kind = 'bar', figsize = (10,5), color = 'green', edgecolor = 'black')\n",
    "    plt.title(f\"Total Sales by Day of Week ({year}, {month})\")\n",
    "    plt.xlabel(\"Day of Week\")\n",
    "    plt.ylabel(\"Total Sales\")\n",
    "    plt.xticks(rotation=0)\n",
    "    \n",
    "    for i, val in enumerate(sales_by_day.values):\n",
    "        plt.text(i, val, str(val), ha='center', va='bottom', fontsize=9, fontweight='bold')\n",
    "    \n",
    "    plt.tight_layout()\n",
    "    plt.show()\n",
    "\n",
    "# --- Create Slicers (Dropdowns) ---\n",
    "year_options = [\"All\"] + sorted(df['year'].dropna().unique().tolist())\n",
    "month_options = [\"All\"] + df['month_name'].dropna().unique().tolist()\n",
    "\n",
    "interact(\n",
    "    plot_sales,\n",
    "    year=widgets.Dropdown(options=year_options, value=\"All\", description=\"Year:\"),\n",
    "    month=widgets.Dropdown(options=month_options, value=\"All\", description=\"Month:\")\n",
    ");"
   ]
  },
  {
   "cell_type": "markdown",
   "id": "f309949a-33eb-4d2f-91ae-9348bac81e6d",
   "metadata": {},
   "source": [
    "### Total Salesby Hour of the Day"
   ]
  },
  {
   "cell_type": "code",
   "execution_count": 42,
   "id": "4d74e010-393c-4120-8fcc-0356e4e2f440",
   "metadata": {},
   "outputs": [
    {
     "data": {
      "application/vnd.jupyter.widget-view+json": {
       "model_id": "8b7d3c27ce8a4596b0331641d11212ed",
       "version_major": 2,
       "version_minor": 0
      },
      "text/plain": [
       "interactive(children=(Dropdown(description='Year:', options=('All', 2024, 2025), value='All'), Dropdown(descri…"
      ]
     },
     "metadata": {},
     "output_type": "display_data"
    }
   ],
   "source": [
    "df['datetime'] = pd.to_datetime(df['datetime'], format = '%H:%M:%S')\n",
    "df['order_hour'] = df['datetime'].dt.hour\n",
    "df['day_name'] = df['date'].dt.day_name()\n",
    "df['month_name'] = df['date'].dt.month_name()\n",
    "df['year'] = df['date'].dt.year\n",
    "\n",
    "def plot_sales_hour(year, month):\n",
    "    filtered_df = df.copy()\n",
    "    if year != \"All\":\n",
    "        filtered_df= filtered_df[filtered_df['year'] ==year]\n",
    "    if month != \"All\":\n",
    "        filtered_df= filtered_df[filtered_df['month_name'] ==month]\n",
    "\n",
    "    orders_by_hour = filtered_df.groupby('order_hour', observed=False)['date'].nunique()\n",
    "    \n",
    "    ax = orders_by_hour.plot(kind = 'bar', figsize = (10,5), color = 'green', edgecolor = 'black')\n",
    "    \n",
    "    plt.title(\"Total Sales by Hour of Day\")\n",
    "    plt.xlabel(\"Hour of Day(24-Hour format)\")\n",
    "    plt.ylabel(\"Quantity Sold\")\n",
    "    plt.xticks(rotation=0)\n",
    "    \n",
    "    for i, val in enumerate(orders_by_hour):\n",
    "        plt.text(i, val + 2, str(val), ha = 'center', va = 'bottom', fontsize = 9, fontweight = 'bold')\n",
    "    \n",
    "    plt.tight_layout()\n",
    "    plt.show()\n",
    "\n",
    "year_options = [\"All\"] + sorted(df['year'].dropna().unique().tolist())\n",
    "month_options = [\"All\"] + df['month_name'].dropna().unique().tolist()\n",
    "\n",
    "interact(\n",
    "    plot_sales_hour,\n",
    "    year=widgets.Dropdown(options=year_options, value=\"All\", description=\"Year:\"),\n",
    "    month=widgets.Dropdown(options=month_options, value=\"All\", description=\"Month:\")\n",
    ");"
   ]
  },
  {
   "cell_type": "markdown",
   "id": "e97e04bb-edb5-4e01-af05-d51256ae72f4",
   "metadata": {},
   "source": [
    "### Total Revenue by Day of Week"
   ]
  },
  {
   "cell_type": "code",
   "execution_count": 13,
   "id": "6dadeb53-b972-490e-bcab-b12b1b7e6173",
   "metadata": {},
   "outputs": [
    {
     "data": {
      "application/vnd.jupyter.widget-view+json": {
       "model_id": "450be86da2a04117b2ba29e8c6652ee8",
       "version_major": 2,
       "version_minor": 0
      },
      "text/plain": [
       "interactive(children=(Dropdown(description='Year:', options=('All', 2024, 2025), value='All'), Dropdown(descri…"
      ]
     },
     "metadata": {},
     "output_type": "display_data"
    }
   ],
   "source": [
    "df['date'] = pd.to_datetime(df['date'],dayfirst = True, errors = 'coerce')\n",
    "df['day_name'] = df['date'].dt.day_name()\n",
    "df['month_name'] = df['date'].dt.month_name()\n",
    "df['year'] = df['date'].dt.year\n",
    "weekday_order = [\"Monday\",\"Tuesday\",\"Wednesday\",\"Thursday\",\"Friday\",\"Saturday\",\"Sunday\"]\n",
    "df['day_name'] = pd.Categorical(df['day_name'], categories=weekday_order, ordered=True)\n",
    "\n",
    "def chart_revenue(year, month):\n",
    "    filtered_df = df.copy()\n",
    "    if year != \"All\":\n",
    "        filtered_df = filtered_df[filtered_df['year'] == year]\n",
    "    if month != \"All\":\n",
    "         filtered_df = filtered_df[filtered_df['month_name'] == month]\n",
    "        \n",
    "    revenue_by_day = filtered_df.groupby('day_name', observed = False)['money'].sum()\n",
    "    ax = revenue_by_day.plot(kind = 'bar', figsize = (10,5), color = 'green', edgecolor = 'black')\n",
    "    \n",
    "    plt.title(\"Total Revenue by Day Of the Week\")\n",
    "    plt.xlabel(\"Day of the Week\")\n",
    "    plt.ylabel(\"Total Revenue\")\n",
    "    plt.xticks(rotation=0)\n",
    "\n",
    "    for i, val in enumerate(revenue_by_day):\n",
    "        plt.text(i, val + 20, f\"${val:,.0f}\", ha = 'center', va = 'bottom', fontsize = 9, fontweight = 'bold')\n",
    "    \n",
    "    plt.tight_layout()\n",
    "    plt.show\n",
    "\n",
    "year_options = [\"All\"] + sorted(df['year'].dropna().unique().tolist())\n",
    "month_options = [\"All\"] + df['month_name'].dropna().unique().tolist()\n",
    "\n",
    "interact(\n",
    "    chart_revenue,\n",
    "    year=widgets.Dropdown(options=year_options, value=\"All\", description=\"Year:\"),\n",
    "    month=widgets.Dropdown(options=month_options, value=\"All\", description=\"Month:\")\n",
    ");"
   ]
  },
  {
   "cell_type": "markdown",
   "id": "d04f945c-def2-498e-a44f-6d49f0729999",
   "metadata": {},
   "source": [
    "### Monthly Sales"
   ]
  },
  {
   "cell_type": "code",
   "execution_count": 14,
   "id": "bdcacf2c-983d-4469-a346-85ff03b7c83b",
   "metadata": {},
   "outputs": [
    {
     "data": {
      "application/vnd.jupyter.widget-view+json": {
       "model_id": "7418b63420b94283ae7782a7d448dac0",
       "version_major": 2,
       "version_minor": 0
      },
      "text/plain": [
       "interactive(children=(Dropdown(description='Year:', options=('All', 2024, 2025), value='All'), Output()), _dom…"
      ]
     },
     "metadata": {},
     "output_type": "display_data"
    }
   ],
   "source": [
    "df['date'] = pd.to_datetime(df['date'], dayfirst = True, errors = 'coerce')\n",
    "df['month_name'] = df['date'].dt.month_name()\n",
    "month_order =[\"January\",\"February\",\"March\",\"April\",\"May\",\"June\",\"July\",\"August\",\"September\",\"October\",\"November\",\"December\"]\n",
    "df['month_name'] = pd.Categorical(df['month_name'],categories=month_order,ordered = True)\n",
    "df['year'] = df['date'].dt.year\n",
    "\n",
    "def plot_sales(year):\n",
    "    filtered_df = df.copy()\n",
    "    if year != \"All\":\n",
    "        filtered_df = filtered_df[filtered_df['year'] == year]\n",
    "    \n",
    "    orders_by_month = filtered_df.groupby('month_name', observed=False)['date'].nunique()\n",
    "\n",
    "    \n",
    "    plt.figure(figsize = (10,5))\n",
    "    plt.fill_between(orders_by_month.index, orders_by_month.values, color= \"orange\", alpha = 0.6)\n",
    "    plt.plot(orders_by_month.index, orders_by_month.values, color = \"black\", linewidth = 2, marker = 'o')\n",
    "    \n",
    "    plt.title(\"Total Sales by Month\")\n",
    "    plt.xlabel(\"Month\")\n",
    "    plt.ylabel(\"Quantity Sold\")\n",
    "    plt.xticks(rotation=0)\n",
    "    \n",
    "    for i, val in enumerate(orders_by_month):\n",
    "        plt.text(i, val + 1, str(val), ha = 'center', va = 'bottom', fontsize = 9, fontweight = 'bold')\n",
    "\n",
    "    plt.tight_layout()\n",
    "    plt.show()\n",
    "    \n",
    "\n",
    "year_options = [\"All\"] + sorted(df['year'].dropna().unique().tolist())\n",
    "\n",
    "interact(\n",
    "    plot_sales,\n",
    "    year=widgets.Dropdown(options=year_options, value=\"All\", description=\"Year:\"),\n",
    ");"
   ]
  },
  {
   "cell_type": "markdown",
   "id": "522bc0f7-5435-4830-935a-e4b15f8821c3",
   "metadata": {},
   "source": [
    "### Revenue Distribution By Payment Method"
   ]
  },
  {
   "cell_type": "code",
   "execution_count": 36,
   "id": "5ec80c93-6333-4e05-9792-25d58d31a976",
   "metadata": {},
   "outputs": [
    {
     "data": {
      "application/vnd.jupyter.widget-view+json": {
       "model_id": "701e46e64db04a519bf71a529c5e32f5",
       "version_major": 2,
       "version_minor": 0
      },
      "text/plain": [
       "interactive(children=(Dropdown(description='Year:', options=('All', 2024, 2025), value='All'), Dropdown(descri…"
      ]
     },
     "metadata": {},
     "output_type": "display_data"
    }
   ],
   "source": [
    "df['date'] = pd.to_datetime(df['date'], dayfirst = True, errors = 'coerce')\n",
    "df['day_name'] = df['date'].dt.day_name()\n",
    "df['month_name'] = df['date'].dt.month_name()\n",
    "df['year'] = df['date'].dt.year\n",
    "\n",
    "def plot_revenue(year, month):\n",
    "    filtered_df = df.copy()\n",
    "    if year != \"All\":\n",
    "        filtered_df= filtered_df[filtered_df['year'] ==year]\n",
    "    if month != \"All\":\n",
    "        filtered_df= filtered_df[filtered_df['month_name'] ==month]\n",
    "        \n",
    "    revenue_by_type = filtered_df.groupby('cash_type')['money'].sum()\n",
    "    labels = [f\"{cat}: ₦{val:,.0f}\" for cat, val in zip(revenue_by_type.index, revenue_by_type.values)]\n",
    "    plt.figure(figsize = (7,7))\n",
    "    colors = plt.get_cmap('tab20').colors\n",
    "    plt.pie(revenue_by_type, labels = labels, startangle = 90, colors = colors, wedgeprops = {'edgecolor': 'black', 'width':0.4})\n",
    "    plt.show()\n",
    "\n",
    "year_options = [\"All\"] + sorted(df['year'].dropna().unique().tolist())\n",
    "month_options = [\"All\"] + df['month_name'].dropna().unique().tolist()\n",
    "\n",
    "interact(\n",
    "    plot_revenue,\n",
    "    year=widgets.Dropdown(options=year_options, value=\"All\", description=\"Year:\"),\n",
    "    month=widgets.Dropdown(options=month_options, value=\"All\", description=\"Month:\")\n",
    ");"
   ]
  },
  {
   "cell_type": "markdown",
   "id": "9318a54a-7fa8-43f9-8abb-008f75b252cd",
   "metadata": {},
   "source": [
    "### Top 5 Best Selling Coffee Type By Revenue"
   ]
  },
  {
   "cell_type": "code",
   "execution_count": 83,
   "id": "3674e0cb-130d-47b5-96aa-0b556b42a36d",
   "metadata": {},
   "outputs": [
    {
     "data": {
      "image/png": "[encoded data removed]",
      "text/plain": [
       "<Figure size 1300x500 with 1 Axes>"
      ]
     },
     "metadata": {},
     "output_type": "display_data"
    }
   ],
   "source": [
    "coffee_by_name = df.groupby('coffee_name')['money'].sum()\n",
    "top5 = coffee_by_name.sort_values(ascending = False).head(10)\n",
    "ax = top5.plot(kind = 'barh', figsize = (13,5), color = 'green', edgecolor = 'black')\n",
    "\n",
    "plt.title(\"Top 5 Best Performing Coffee Type By Revenue\")\n",
    "plt.ylabel(\"Coffee Type\")\n",
    "plt.xlabel(\"Total Revenue\")\n",
    "\n",
    "for i, val in enumerate(top5):\n",
    "   plt.text(val + 3, i, f\"${val:,.0f}\", ha = 'left', va='center', fontsize=9, fontweight='bold')\n",
    "plt.tight_layout()\n",
    "plt.show()"
   ]
  },
  {
   "cell_type": "markdown",
   "id": "a553444a-129e-496b-9e8c-a9cf6395ef6d",
   "metadata": {},
   "source": [
    "### Bottom 5 Least Selling Coffee Type By Revenue"
   ]
  },
  {
   "cell_type": "code",
   "execution_count": 82,
   "id": "65315d48-4f47-442b-a4a2-225bb9c732a4",
   "metadata": {},
   "outputs": [
    {
     "data": {
      "image/png": "[encoded data removed]",
      "text/plain": [
       "<Figure size 1300x500 with 1 Axes>"
      ]
     },
     "metadata": {},
     "output_type": "display_data"
    }
   ],
   "source": [
    "coffee_by_name = df.groupby('coffee_name')['money'].sum()\n",
    "top5 = coffee_by_name.sort_values(ascending = True).head(10)\n",
    "ax = top5.plot(kind = 'barh', figsize = (13,5), color = 'green', edgecolor = 'black')\n",
    "\n",
    "plt.title(\"Top 5 Best Performing Coffee Type By Revenue\")\n",
    "plt.ylabel(\"Coffee Type\")\n",
    "plt.xlabel(\"Total Revenue\")\n",
    "\n",
    "for i, val in enumerate(top5):\n",
    "   plt.text(val + 1, i, f\"${val:,.0f}\", ha = 'left', va='center', fontsize=9, fontweight='bold')\n",
    "plt.tight_layout()\n",
    "plt.show()"
   ]
  },
  {
   "cell_type": "code",
   "execution_count": null,
   "id": "62ada2ac-485b-4dc1-8b10-68cb0db46222",
   "metadata": {},
   "outputs": [],
   "source": []
  }
 ],
 "metadata": {
  "kernelspec": {
   "display_name": "Python 3 (ipykernel)",
   "language": "python",
   "name": "python3"
  },
  "language_info": {
   "codemirror_mode": {
    "name": "ipython",
    "version": 3
   },
   "file_extension": ".py",
   "mimetype": "text/x-python",
   "name": "python",
   "nbconvert_exporter": "python",
   "pygments_lexer": "ipython3",
   "version": "3.12.7"
  }
 },
 "nbformat": 4,
 "nbformat_minor": 5
}
